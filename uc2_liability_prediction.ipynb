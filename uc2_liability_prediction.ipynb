{
 "cells": [
  {
   "cell_type": "markdown",
   "id": "1fffffa8-3ccd-4738-b040-5742e3336a15",
   "metadata": {},
   "source": [
    "# Use Case 2 - Liability Prediction\n",
    "This is one of two Jupyter Notebooks accompanying the paper \"PAPER TITLE\" by Markus Borg, Marwa Ezzouhri, and Adam Tornhill, submitted to the 40th International Conference on Software Maintenance and Evolution, 2024."
   ]
  },
  {
   "cell_type": "markdown",
   "id": "2928e205-4565-4d47-8469-34a2b138389b",
   "metadata": {},
   "source": [
    "## General preparations\n",
    "Import libraries and read the data."
   ]
  },
  {
   "cell_type": "code",
   "execution_count": 1,
   "id": "febf2635-22c4-439c-88c7-3e1b244dad5b",
   "metadata": {},
   "outputs": [],
   "source": [
    "import pandas as pd\n",
    "import numpy as np\n",
    "import matplotlib.pyplot as plt\n",
    "from scipy.integrate import trapz"
   ]
  },
  {
   "cell_type": "markdown",
   "id": "76cfbc09-f146-4d32-9800-426303840591",
   "metadata": {},
   "source": [
    "*maintainability_data.csv* contains code ground truth labels for 304 files from Schnappinger et al. (2020) and many metrics from static code analysis tools. More specifically:\n",
    "- Majority voting labels by human experts: Readability, Understandability, Complexity (inverted), Modularization (inverted), and **Overall** (used in this study).\n",
    "- **Code_Health**: Code Health extracted using CodeScene Community Edition 6.4.13.\n",
    "- **TD_Ratio** and **TD_Time**: Extracted using SonarQube Community Edition Version 10.0 (build 68432).\n",
    "- **MI**: Microsoft Maintainability Index obtained from MetricsTree.\n",
    "- Many code metrics from Bertrand et al. (2023) extracted using Javanalyzer. We use a subset of the metrics to train **SotA ML** and **nos** (number of statements) for the naïve **size baseline** classifier."
   ]
  },
  {
   "cell_type": "code",
   "execution_count": 12,
   "id": "73fb661f-6f9f-4f0f-84c5-d0b2569e584f",
   "metadata": {},
   "outputs": [],
   "source": [
    "df = pd.read_csv('maintainability_data.csv', sep=';')"
   ]
  },
  {
   "cell_type": "markdown",
   "id": "14a3d083-48cc-4ba0-8383-e0f7f66c665e",
   "metadata": {},
   "source": [
    "In this study, we consider the binary prediction problem. As in previous work on the Maintainability Dataset, we use the labels assigned by the human experts as follows:\n",
    "- **Overall** <= 1. Maintainable, i.e., a file that is easy to maintain.\n",
    "- **Overall** >= 2. Non-maintainable, i.e., a file that is a problem to maintain.\n",
    "\n",
    "In this study, we consider two different use cases. Despite the focus on binary prediction, evaluating the two use cases yields different prediction results as the Maintainability Dataset is imbalanced. The majority class is maintainable with 78% of the files.\n",
    "\n",
    "### Use case 1: Maintainability prediction (corresponding to previous work)\n",
    "This is the use case considered in Schnappinger et al. (2021) and Bertrand (2023). Different prediction approaches are used to *identify files that are easy to maintain*. We add a ground truth column that matches this, i.e., **maintainability_gt**.\n",
    "- True = A file that is truly maintainable.\n",
    "- False = A file that is non-maintainable.\n",
    "\n",
    "The corresponding discussion of true/false positives/negatives is as follows:\n",
    "- True Positive (TP): A file that is correctly predicted as maintainable. This brings limited value, but some confidence.\n",
    "- False Positive (FP): A file that is incorrectly highlighted as maintainable. This gives a false sense of security.\n",
    "- True Negatives (TN): A file that is correctly predicted as non-maintainable. This is helpful tool output.\n",
    "- False Negatives (FN): A file that is incorrectly highlighted as non-maintainable. This is annoying.\n",
    "\n",
    "For this use case, we argue that false negatives are a bigger problem than false positives.\n",
    "\n",
    "### Use case 2: Fragility prediction (this Notebook)\n",
    "This is the use case we consider more important. Different prediction approaches are used to *identify files that are hard to maintain*, i.e., a warning system. Thus, we add a ground truth column that matches this, i.e., **fragility_gt**.\n",
    "- True = A file that is truly non-maintainable.\n",
    "- False = A file that is maintainable.\n",
    "\n",
    "This enables a more relevant discussion of true/false positives/negatives as follows:\n",
    "- True Positive (TP): A file that is correctly predicted as non-maintainable. This is helpful tool output.\n",
    "- False Positive (FP): A file that is incorrectly highlighted as non-maintainable. This is annoying.\n",
    "- True Negatives (TN): A file that is correctly predicted as maintainable. This brings limited value, but some confidence.\n",
    "- False Negatives (FN): A file that is incorrectly highlighted as maintainable. This gives a false sense of security.\n",
    "\n",
    "For this use case, we argue that false positives are a bigger problem than false negatives."
   ]
  },
  {
   "cell_type": "code",
   "execution_count": 14,
   "id": "6e424433-bf30-4ce9-8e3d-956e1e0b37a1",
   "metadata": {},
   "outputs": [],
   "source": [
    "df['ground_truth'] = df['Overall'].apply(lambda x: True if x >= 2 else False)"
   ]
  },
  {
   "cell_type": "code",
   "execution_count": 15,
   "id": "fcb2a3de-9880-435e-b19b-4bd0ebc01e13",
   "metadata": {},
   "outputs": [
    {
     "data": {
      "text/html": [
       "<div>\n",
       "<style scoped>\n",
       "    .dataframe tbody tr th:only-of-type {\n",
       "        vertical-align: middle;\n",
       "    }\n",
       "\n",
       "    .dataframe tbody tr th {\n",
       "        vertical-align: top;\n",
       "    }\n",
       "\n",
       "    .dataframe thead th {\n",
       "        text-align: right;\n",
       "    }\n",
       "</style>\n",
       "<table border=\"1\" class=\"dataframe\">\n",
       "  <thead>\n",
       "    <tr style=\"text-align: right;\">\n",
       "      <th></th>\n",
       "      <th>projectname</th>\n",
       "      <th>packageandclass</th>\n",
       "      <th>path</th>\n",
       "      <th>Readability</th>\n",
       "      <th>Understandability</th>\n",
       "      <th>Complexity_inv</th>\n",
       "      <th>Modularization_inv</th>\n",
       "      <th>Overall</th>\n",
       "      <th>Code_Health</th>\n",
       "      <th>TD_Time</th>\n",
       "      <th>...</th>\n",
       "      <th>non_m</th>\n",
       "      <th>nop</th>\n",
       "      <th>nos</th>\n",
       "      <th>nos_am</th>\n",
       "      <th>nos_deeper_4</th>\n",
       "      <th>nos_lm</th>\n",
       "      <th>nos_m</th>\n",
       "      <th>rfc</th>\n",
       "      <th>rfc_ic</th>\n",
       "      <th>ground_truth</th>\n",
       "    </tr>\n",
       "  </thead>\n",
       "  <tbody>\n",
       "    <tr>\n",
       "      <th>0</th>\n",
       "      <td>aoi</td>\n",
       "      <td>artofillusion.animation.ActorEditorWindow</td>\n",
       "      <td>aoi\\sourcefiles\\ArtOfIllusion\\src\\artofillusio...</td>\n",
       "      <td>1</td>\n",
       "      <td>2</td>\n",
       "      <td>2</td>\n",
       "      <td>1</td>\n",
       "      <td>2</td>\n",
       "      <td>8.99</td>\n",
       "      <td>242</td>\n",
       "      <td>...</td>\n",
       "      <td>691</td>\n",
       "      <td>1</td>\n",
       "      <td>451</td>\n",
       "      <td>28.30769</td>\n",
       "      <td>3</td>\n",
       "      <td>145</td>\n",
       "      <td>322</td>\n",
       "      <td>61</td>\n",
       "      <td>72</td>\n",
       "      <td>True</td>\n",
       "    </tr>\n",
       "    <tr>\n",
       "      <th>1</th>\n",
       "      <td>aoi</td>\n",
       "      <td>artofillusion.animation.AnimationPreviewer</td>\n",
       "      <td>aoi\\sourcefiles\\ArtOfIllusion\\src\\artofillusio...</td>\n",
       "      <td>2</td>\n",
       "      <td>2</td>\n",
       "      <td>1</td>\n",
       "      <td>1</td>\n",
       "      <td>3</td>\n",
       "      <td>8.73</td>\n",
       "      <td>354</td>\n",
       "      <td>...</td>\n",
       "      <td>555</td>\n",
       "      <td>1</td>\n",
       "      <td>289</td>\n",
       "      <td>48.50000</td>\n",
       "      <td>3</td>\n",
       "      <td>141</td>\n",
       "      <td>281</td>\n",
       "      <td>37</td>\n",
       "      <td>37</td>\n",
       "      <td>True</td>\n",
       "    </tr>\n",
       "    <tr>\n",
       "      <th>2</th>\n",
       "      <td>aoi</td>\n",
       "      <td>artofillusion.animation.distortion.CustomDisto...</td>\n",
       "      <td>aoi\\sourcefiles\\ArtOfIllusion\\src\\artofillusio...</td>\n",
       "      <td>1</td>\n",
       "      <td>3</td>\n",
       "      <td>1</td>\n",
       "      <td>1</td>\n",
       "      <td>2</td>\n",
       "      <td>8.96</td>\n",
       "      <td>25</td>\n",
       "      <td>...</td>\n",
       "      <td>270</td>\n",
       "      <td>1</td>\n",
       "      <td>110</td>\n",
       "      <td>32.00000</td>\n",
       "      <td>0</td>\n",
       "      <td>51</td>\n",
       "      <td>109</td>\n",
       "      <td>16</td>\n",
       "      <td>16</td>\n",
       "      <td>True</td>\n",
       "    </tr>\n",
       "    <tr>\n",
       "      <th>3</th>\n",
       "      <td>aoi</td>\n",
       "      <td>artofillusion.animation.FilterParameterTrack</td>\n",
       "      <td>aoi\\sourcefiles\\ArtOfIllusion\\src\\artofillusio...</td>\n",
       "      <td>1</td>\n",
       "      <td>2</td>\n",
       "      <td>1</td>\n",
       "      <td>0</td>\n",
       "      <td>2</td>\n",
       "      <td>9.24</td>\n",
       "      <td>144</td>\n",
       "      <td>...</td>\n",
       "      <td>730</td>\n",
       "      <td>1</td>\n",
       "      <td>393</td>\n",
       "      <td>16.65385</td>\n",
       "      <td>0</td>\n",
       "      <td>109</td>\n",
       "      <td>392</td>\n",
       "      <td>77</td>\n",
       "      <td>77</td>\n",
       "      <td>True</td>\n",
       "    </tr>\n",
       "    <tr>\n",
       "      <th>4</th>\n",
       "      <td>aoi</td>\n",
       "      <td>artofillusion.animation.IKTrack</td>\n",
       "      <td>aoi\\sourcefiles\\ArtOfIllusion\\src\\artofillusio...</td>\n",
       "      <td>1</td>\n",
       "      <td>2</td>\n",
       "      <td>1</td>\n",
       "      <td>0</td>\n",
       "      <td>2</td>\n",
       "      <td>9.84</td>\n",
       "      <td>264</td>\n",
       "      <td>...</td>\n",
       "      <td>414</td>\n",
       "      <td>1</td>\n",
       "      <td>464</td>\n",
       "      <td>13.55000</td>\n",
       "      <td>0</td>\n",
       "      <td>50</td>\n",
       "      <td>241</td>\n",
       "      <td>49</td>\n",
       "      <td>68</td>\n",
       "      <td>True</td>\n",
       "    </tr>\n",
       "    <tr>\n",
       "      <th>...</th>\n",
       "      <td>...</td>\n",
       "      <td>...</td>\n",
       "      <td>...</td>\n",
       "      <td>...</td>\n",
       "      <td>...</td>\n",
       "      <td>...</td>\n",
       "      <td>...</td>\n",
       "      <td>...</td>\n",
       "      <td>...</td>\n",
       "      <td>...</td>\n",
       "      <td>...</td>\n",
       "      <td>...</td>\n",
       "      <td>...</td>\n",
       "      <td>...</td>\n",
       "      <td>...</td>\n",
       "      <td>...</td>\n",
       "      <td>...</td>\n",
       "      <td>...</td>\n",
       "      <td>...</td>\n",
       "      <td>...</td>\n",
       "      <td>...</td>\n",
       "    </tr>\n",
       "    <tr>\n",
       "      <th>299</th>\n",
       "      <td>junit4</td>\n",
       "      <td>org.junit.runners.parameterized.BlockJUnit4Cla...</td>\n",
       "      <td>junit4\\sourcefiles\\src\\main\\java\\org\\junit\\run...</td>\n",
       "      <td>1</td>\n",
       "      <td>1</td>\n",
       "      <td>2</td>\n",
       "      <td>2</td>\n",
       "      <td>1</td>\n",
       "      <td>9.87</td>\n",
       "      <td>105</td>\n",
       "      <td>...</td>\n",
       "      <td>232</td>\n",
       "      <td>1</td>\n",
       "      <td>141</td>\n",
       "      <td>11.92000</td>\n",
       "      <td>3</td>\n",
       "      <td>37</td>\n",
       "      <td>140</td>\n",
       "      <td>28</td>\n",
       "      <td>28</td>\n",
       "      <td>False</td>\n",
       "    </tr>\n",
       "    <tr>\n",
       "      <th>300</th>\n",
       "      <td>junit4</td>\n",
       "      <td>org.junit.runners.parameterized.BlockJUnit4Cla...</td>\n",
       "      <td>junit4\\sourcefiles\\src\\main\\java\\org\\junit\\run...</td>\n",
       "      <td>0</td>\n",
       "      <td>0</td>\n",
       "      <td>3</td>\n",
       "      <td>3</td>\n",
       "      <td>0</td>\n",
       "      <td>10.00</td>\n",
       "      <td>0</td>\n",
       "      <td>...</td>\n",
       "      <td>6</td>\n",
       "      <td>1</td>\n",
       "      <td>5</td>\n",
       "      <td>2.00000</td>\n",
       "      <td>0</td>\n",
       "      <td>3</td>\n",
       "      <td>4</td>\n",
       "      <td>2</td>\n",
       "      <td>2</td>\n",
       "      <td>False</td>\n",
       "    </tr>\n",
       "    <tr>\n",
       "      <th>301</th>\n",
       "      <td>junit4</td>\n",
       "      <td>org.junit.runners.parameterized.TestWithParame...</td>\n",
       "      <td>junit4\\sourcefiles\\src\\main\\java\\org\\junit\\run...</td>\n",
       "      <td>0</td>\n",
       "      <td>0</td>\n",
       "      <td>3</td>\n",
       "      <td>3</td>\n",
       "      <td>0</td>\n",
       "      <td>10.00</td>\n",
       "      <td>0</td>\n",
       "      <td>...</td>\n",
       "      <td>103</td>\n",
       "      <td>0</td>\n",
       "      <td>62</td>\n",
       "      <td>9.13000</td>\n",
       "      <td>0</td>\n",
       "      <td>22</td>\n",
       "      <td>61</td>\n",
       "      <td>11</td>\n",
       "      <td>11</td>\n",
       "      <td>False</td>\n",
       "    </tr>\n",
       "    <tr>\n",
       "      <th>302</th>\n",
       "      <td>junit4</td>\n",
       "      <td>org.junit.validator.AnnotationsValidator</td>\n",
       "      <td>junit4\\sourcefiles\\src\\main\\java\\org\\junit\\val...</td>\n",
       "      <td>1</td>\n",
       "      <td>1</td>\n",
       "      <td>2</td>\n",
       "      <td>2</td>\n",
       "      <td>1</td>\n",
       "      <td>10.00</td>\n",
       "      <td>7</td>\n",
       "      <td>...</td>\n",
       "      <td>15</td>\n",
       "      <td>1</td>\n",
       "      <td>85</td>\n",
       "      <td>5.50000</td>\n",
       "      <td>0</td>\n",
       "      <td>10</td>\n",
       "      <td>11</td>\n",
       "      <td>2</td>\n",
       "      <td>8</td>\n",
       "      <td>False</td>\n",
       "    </tr>\n",
       "    <tr>\n",
       "      <th>303</th>\n",
       "      <td>junit4</td>\n",
       "      <td>org.junit.validator.AnnotationValidator</td>\n",
       "      <td>junit4\\sourcefiles\\src\\main\\java\\org\\junit\\val...</td>\n",
       "      <td>0</td>\n",
       "      <td>0</td>\n",
       "      <td>3</td>\n",
       "      <td>3</td>\n",
       "      <td>0</td>\n",
       "      <td>10.00</td>\n",
       "      <td>0</td>\n",
       "      <td>...</td>\n",
       "      <td>19</td>\n",
       "      <td>0</td>\n",
       "      <td>13</td>\n",
       "      <td>2.50000</td>\n",
       "      <td>0</td>\n",
       "      <td>3</td>\n",
       "      <td>10</td>\n",
       "      <td>3</td>\n",
       "      <td>3</td>\n",
       "      <td>False</td>\n",
       "    </tr>\n",
       "  </tbody>\n",
       "</table>\n",
       "<p>304 rows × 47 columns</p>\n",
       "</div>"
      ],
      "text/plain": [
       "    projectname                                    packageandclass  \\\n",
       "0           aoi          artofillusion.animation.ActorEditorWindow   \n",
       "1           aoi         artofillusion.animation.AnimationPreviewer   \n",
       "2           aoi  artofillusion.animation.distortion.CustomDisto...   \n",
       "3           aoi       artofillusion.animation.FilterParameterTrack   \n",
       "4           aoi                    artofillusion.animation.IKTrack   \n",
       "..          ...                                                ...   \n",
       "299      junit4  org.junit.runners.parameterized.BlockJUnit4Cla...   \n",
       "300      junit4  org.junit.runners.parameterized.BlockJUnit4Cla...   \n",
       "301      junit4  org.junit.runners.parameterized.TestWithParame...   \n",
       "302      junit4           org.junit.validator.AnnotationsValidator   \n",
       "303      junit4            org.junit.validator.AnnotationValidator   \n",
       "\n",
       "                                                  path  Readability  \\\n",
       "0    aoi\\sourcefiles\\ArtOfIllusion\\src\\artofillusio...            1   \n",
       "1    aoi\\sourcefiles\\ArtOfIllusion\\src\\artofillusio...            2   \n",
       "2    aoi\\sourcefiles\\ArtOfIllusion\\src\\artofillusio...            1   \n",
       "3    aoi\\sourcefiles\\ArtOfIllusion\\src\\artofillusio...            1   \n",
       "4    aoi\\sourcefiles\\ArtOfIllusion\\src\\artofillusio...            1   \n",
       "..                                                 ...          ...   \n",
       "299  junit4\\sourcefiles\\src\\main\\java\\org\\junit\\run...            1   \n",
       "300  junit4\\sourcefiles\\src\\main\\java\\org\\junit\\run...            0   \n",
       "301  junit4\\sourcefiles\\src\\main\\java\\org\\junit\\run...            0   \n",
       "302  junit4\\sourcefiles\\src\\main\\java\\org\\junit\\val...            1   \n",
       "303  junit4\\sourcefiles\\src\\main\\java\\org\\junit\\val...            0   \n",
       "\n",
       "     Understandability  Complexity_inv  Modularization_inv  Overall  \\\n",
       "0                    2               2                   1        2   \n",
       "1                    2               1                   1        3   \n",
       "2                    3               1                   1        2   \n",
       "3                    2               1                   0        2   \n",
       "4                    2               1                   0        2   \n",
       "..                 ...             ...                 ...      ...   \n",
       "299                  1               2                   2        1   \n",
       "300                  0               3                   3        0   \n",
       "301                  0               3                   3        0   \n",
       "302                  1               2                   2        1   \n",
       "303                  0               3                   3        0   \n",
       "\n",
       "     Code_Health  TD_Time  ...  non_m  nop  nos    nos_am  nos_deeper_4  \\\n",
       "0           8.99      242  ...    691    1  451  28.30769             3   \n",
       "1           8.73      354  ...    555    1  289  48.50000             3   \n",
       "2           8.96       25  ...    270    1  110  32.00000             0   \n",
       "3           9.24      144  ...    730    1  393  16.65385             0   \n",
       "4           9.84      264  ...    414    1  464  13.55000             0   \n",
       "..           ...      ...  ...    ...  ...  ...       ...           ...   \n",
       "299         9.87      105  ...    232    1  141  11.92000             3   \n",
       "300        10.00        0  ...      6    1    5   2.00000             0   \n",
       "301        10.00        0  ...    103    0   62   9.13000             0   \n",
       "302        10.00        7  ...     15    1   85   5.50000             0   \n",
       "303        10.00        0  ...     19    0   13   2.50000             0   \n",
       "\n",
       "     nos_lm  nos_m  rfc  rfc_ic  ground_truth  \n",
       "0       145    322   61      72          True  \n",
       "1       141    281   37      37          True  \n",
       "2        51    109   16      16          True  \n",
       "3       109    392   77      77          True  \n",
       "4        50    241   49      68          True  \n",
       "..      ...    ...  ...     ...           ...  \n",
       "299      37    140   28      28         False  \n",
       "300       3      4    2       2         False  \n",
       "301      22     61   11      11         False  \n",
       "302      10     11    2       8         False  \n",
       "303       3     10    3       3         False  \n",
       "\n",
       "[304 rows x 47 columns]"
      ]
     },
     "execution_count": 15,
     "metadata": {},
     "output_type": "execute_result"
    }
   ],
   "source": [
    "df"
   ]
  },
  {
   "cell_type": "markdown",
   "id": "59e1ff4b-acd8-4571-8889-32e2eb66bf24",
   "metadata": {},
   "source": [
    "## Reproducing the results for SotA ML\n",
    "\n",
    "First, we reproduce the results from Bertrand et al. (2023) corresponding to the best ensemble classifier. The code in this section is copyrighted by onepoint and contributors and can be found on GitLab: https://gitlab.com/onepoint/research/maintainability-dataset-analysis\n",
    "\n",
    "We have only extracted the code for this project."
   ]
  },
  {
   "cell_type": "markdown",
   "id": "0fb26041-250f-4bd9-b525-2db58fa3a97c",
   "metadata": {},
   "source": [
    "MIT License\n",
    "\n",
    "Copyright (c) 2022 onepoint and contributors\n",
    "\n",
    "Permission is hereby granted, free of charge, to any person obtaining a copy of this software and associated documentation files (the \"Software\"), to deal in the Software without restriction, including without limitation the rights to use, copy, modify, merge, publish, distribute, sublicense, and/or sell copies of the Software, and to permit persons to whom the Software is furnished to do so, subject to the following conditions:\n",
    "\n",
    "The above copyright notice and this permission notice shall be included in all copies or substantial portions of the Software.\n",
    "\n",
    "THE SOFTWARE IS PROVIDED \"AS IS\", WITHOUT WARRANTY OF ANY KIND, EXPRESS OR IMPLIED, INCLUDING BUT NOT LIMITED TO THE WARRANTIES OF MERCHANTABILITY, FITNESS FOR A PARTICULAR PURPOSE AND NONINFRINGEMENT. IN NO EVENT SHALL THE AUTHORS OR COPYRIGHT HOLDERS BE LIABLE FOR ANY CLAIM, DAMAGES OR OTHER LIABILITY, WHETHER IN AN ACTION OF CONTRACT, TORT OR OTHERWISE, ARISING FROM, OUT OF OR IN CONNECTION WITH THE SOFTWARE OR THE USE OR OTHER DEALINGS IN THE SOFTWARE."
   ]
  },
  {
   "cell_type": "markdown",
   "id": "6c96ef4a-151c-42d5-98ff-49449ae65765",
   "metadata": {},
   "source": [
    "### Preparations"
   ]
  },
  {
   "cell_type": "code",
   "execution_count": 16,
   "id": "5275d9fd-d740-4210-be5b-c6f5338ada5b",
   "metadata": {},
   "outputs": [],
   "source": [
    "from sklearn.model_selection import train_test_split\n",
    "from sklearn.metrics import roc_curve, auc, f1_score, fbeta_score, accuracy_score, precision_score, recall_score\n",
    "from sklearn.ensemble import AdaBoostClassifier\n",
    "from sklearn.neighbors import KNeighborsClassifier\n",
    "from sklearn.model_selection import KFold"
   ]
  },
  {
   "cell_type": "code",
   "execution_count": 17,
   "id": "b7045c63-6395-4ef9-8830-b9b9d14fcead",
   "metadata": {},
   "outputs": [],
   "source": [
    "METRIC_COLUMNS = [\"nos\", \"non\", \"non_m\", \"nos_m\",\n",
    "                  \"non_am\", \"nos_am\", \"non_lm\", \"nos_lm\",\n",
    "                  \"mll\", \"nos_deeper_4\",\n",
    "                  \"cbo\", \"cbod\", \"cboi\", \"cgc\", \"cyc\", \"dac\", \"dit\", \"lcom4\", \"lpc\",\n",
    "                  \"mnd\", \"mpc\", \"nlam\", \"nle\", \"noa\", \"noc\", \"nod\", \"noi\", \"noi_ic\",\n",
    "                  \"nolm\", \"nom\", \"nop\", \"rfc\", \"rfc_ic\", ]\n",
    "\n",
    "X = df[METRIC_COLUMNS]\n",
    "y = df['ground_truth'] # inverted ground truth as explained above\n",
    "\n",
    "X = X.values"
   ]
  },
  {
   "cell_type": "code",
   "execution_count": 18,
   "id": "bef334e0-b58d-467c-bd1c-a807c6366d2b",
   "metadata": {},
   "outputs": [],
   "source": [
    "#The best model from Bertrand et al. (2023)\n",
    "BinaryClassifier = AdaBoostClassifier(n_estimators=150, learning_rate=0.5)\n",
    "k = 5\n",
    "kf = KFold(n_splits=k, shuffle=True, random_state=33)"
   ]
  },
  {
   "cell_type": "code",
   "execution_count": 19,
   "id": "2799ed61-1c75-4f96-b7e8-4f3e054f9ee9",
   "metadata": {},
   "outputs": [],
   "source": [
    "# List to store the predicted probabilities for each fold\n",
    "probabilities_list = []\n",
    "\n",
    "# List to store various prediction metrics for each fold\n",
    "fprs = []\n",
    "tprs = []\n",
    "accuracy_scores = []\n",
    "precision_scores = []\n",
    "recall_scores = []\n",
    "f1_scores = []\n",
    "f05_scores = []\n",
    "f2_scores = []\n",
    "auc_scores = []"
   ]
  },
  {
   "cell_type": "markdown",
   "id": "bf17113a-3909-46b2-9333-1c9fde768548",
   "metadata": {},
   "source": [
    "### For each fold, train the best ensemble classifier and record the results"
   ]
  },
  {
   "cell_type": "code",
   "execution_count": 20,
   "id": "3cebe47b-e8a4-4b79-9f83-b11c78a868ac",
   "metadata": {},
   "outputs": [],
   "source": [
    "# Training the Model\n",
    "for i, (train_index, test_index) in enumerate(kf.split(X)):\n",
    "    # Split the data into training and test sets for this fold\n",
    "    X_train, X_test = X[train_index], X[test_index]\n",
    "    y_train, y_test = y[train_index], y[test_index]\n",
    "    \n",
    "    # Train the model on the training set\n",
    "    BinaryClassifier.fit(X_train, y_train)\n",
    "    \n",
    "    # Performance metric values\n",
    "    y_pred = BinaryClassifier.predict(X_test)\n",
    "\n",
    "    # Record the scores in the lists\n",
    "    accuracy_scores.append(accuracy_score(y_test, y_pred))\n",
    "    precision_scores.append(precision_score(y_test, y_pred))\n",
    "    recall_scores.append(recall_score(y_test, y_pred))\n",
    "    f1_scores.append(f1_score(y_test, y_pred))\n",
    "    f05_scores.append(fbeta_score(y_test, y_pred, beta=0.5))\n",
    "    f2_scores.append(fbeta_score(y_test, y_pred, beta=2))\n",
    "\n",
    "    # Obtain the predicted probabilities for the positive class\n",
    "    y_proba = BinaryClassifier.predict_proba(X_test)[:, 1]\n",
    "  \n",
    "    # Store the predicted probabilities in a list with a unique variable name\n",
    "    variable_name = f'v{i+1}'\n",
    "    exec(f\"{variable_name} = y_proba\")\n",
    "    \n",
    "    # Add the predicted probabilities to the list\n",
    "    probabilities_list.append(y_proba)\n",
    "\n",
    "    # Calculate the AUC-ROC score for this fold\n",
    "    fpr, tpr, _ = roc_curve(y_test, y_proba)\n",
    "    \n",
    "    fprs.append(fpr)\n",
    "    tprs.append(tpr)\n",
    "    auc_scores.append(auc(fpr, tpr))"
   ]
  },
  {
   "cell_type": "markdown",
   "id": "f291e18a-8a69-4203-819b-0d8826d1975d",
   "metadata": {},
   "source": [
    "### Calculate the mean results"
   ]
  },
  {
   "cell_type": "code",
   "execution_count": 21,
   "id": "32b45b61-5161-4cfb-a62e-e2241a339114",
   "metadata": {},
   "outputs": [
    {
     "name": "stdout",
     "output_type": "stream",
     "text": [
      "Mean Accuracy: 0.9210\n",
      "Mean Precision: 0.8169\n",
      "Mean Recall: 0.8060\n",
      "Mean F1: 0.8083\n",
      "Mean F0.5: 0.8127\n",
      "Mean F2: 0.8062\n"
     ]
    }
   ],
   "source": [
    "# Initialize a list to store all FPR points\n",
    "all_fpr = []\n",
    "\n",
    "# Add all FPR points to the list\n",
    "for fpr in fprs:\n",
    "    all_fpr.append(fpr)\n",
    "\n",
    "# Sort the FPR points\n",
    "sota_ml_fpr_sorted = np.sort(np.unique(np.concatenate(all_fpr)))\n",
    "\n",
    "# Compute the mean TPR for each FPR\n",
    "sota_ml_tpr = np.zeros_like(sota_ml_fpr_sorted, dtype=float)\n",
    "for fpr, tpr in zip(fprs, tprs):\n",
    "    sota_ml_tpr += np.interp(sota_ml_fpr_sorted, fpr, tpr)\n",
    "\n",
    "sota_ml_tpr /= len(fprs)\n",
    "\n",
    "# Compute the mean of accuracy, precision, and recall\n",
    "mean_accuracy = np.mean(accuracy_scores)\n",
    "mean_precision = np.mean(precision_scores)\n",
    "mean_recall = np.mean(recall_scores)\n",
    "\n",
    "# Calculate the AUC of the mean ROC curve\n",
    "mean_auc = auc(sota_ml_fpr_sorted, sota_ml_tpr)\n",
    "\n",
    "# Print the mean scores\n",
    "print(f\"Mean Accuracy: {mean_accuracy:.4f}\")\n",
    "print(f\"Mean Precision: {mean_precision:.4f}\")\n",
    "print(f\"Mean Recall: {mean_recall:.4f}\")\n",
    "print(f\"Mean F1: {np.mean(f1_scores):.4f}\")\n",
    "print(f\"Mean F0.5: {np.mean(f05_scores):.4f}\")\n",
    "print(f\"Mean F2: {np.mean(f2_scores):.4f}\")"
   ]
  },
  {
   "cell_type": "markdown",
   "id": "41055cff-1e1f-4555-a14b-65693f2ed420",
   "metadata": {},
   "source": [
    "### Draw the ROC curve for the mean results and print the corresponding AUC"
   ]
  },
  {
   "cell_type": "code",
   "execution_count": 22,
   "id": "6bdcbd09-71c2-43ad-bb81-1b0d7f2eaaf7",
   "metadata": {},
   "outputs": [
    {
     "data": {
      "image/png": "[encoded data removed]",
      "text/plain": [
       "<Figure size 800x600 with 1 Axes>"
      ]
     },
     "metadata": {},
     "output_type": "display_data"
    },
    {
     "name": "stdout",
     "output_type": "stream",
     "text": [
      "SotA ML AUC: 0.9731\n"
     ]
    }
   ],
   "source": [
    "# Plot the mean ROC curve\n",
    "plt.figure(figsize=(8, 6))\n",
    "plt.plot(sota_ml_fpr_sorted, sota_ml_tpr, color='b', label=f'Mean ROC (AUC = {mean_auc:.2f})')\n",
    "\n",
    "# Plot the dashed line representing the random guessing diagonal\n",
    "plt.plot([0, 1], [0, 1], linestyle='--', color='r', label='Random Guessing')\n",
    "\n",
    "# Add labels and a legend\n",
    "plt.xlabel('False Positive Rate')\n",
    "plt.ylabel('True Positive Rate')\n",
    "plt.title('SotA ML ROC Curve')\n",
    "plt.legend()\n",
    "plt.grid(True)\n",
    "\n",
    "# Display the mean ROC curve\n",
    "plt.show()\n",
    "\n",
    "print(f\"SotA ML AUC: {mean_auc:.4f}\")"
   ]
  },
  {
   "cell_type": "markdown",
   "id": "d4144fa4-78c7-42b3-8bd3-5035a1e3224e",
   "metadata": {},
   "source": [
    "We have now successfully reproduced the best results from Bertrand et al. (2023). **SotA ML** has an AUC of 0.97 and F1-score of 0.95. Note that a TP in this plot means that the classifier correctly predicted a maintainable file as maintainable."
   ]
  },
  {
   "cell_type": "markdown",
   "id": "e4d05579-04d5-4b4b-9341-740dfea17d9f",
   "metadata": {},
   "source": [
    "## Data analysis for the research questions\n",
    "\n",
    "We continue by presenting the data analysis for the two research questions:\n",
    "\n",
    "- RQ1: How do contemporary industrial tools’ maintainability assessments compare to SotA ML in matching human experts’ judgments?\n",
    "- RQ2: What is the comparative predictive power of the tools’ underlying maintainability metrics relative to SotA ML?"
   ]
  },
  {
   "cell_type": "markdown",
   "id": "1d91cc75-4471-40b6-8e28-92dcd299a655",
   "metadata": {},
   "source": [
    "### RQ1: Industrial Tools, SotA ML, and Human Experts\n",
    "\n",
    "RQ1 deals with investigating how well different industrial maintainability prediction approaches perform at binary classification. We study different thresholds.\n",
    "\n",
    "CodeScene, SonarQube, and Microsoft provide fixed thresholds as follows:\n",
    "- CodeScene Code Health < 9.0 => non-maintainable file\n",
    "- SonarQube TD Ratio > 0.05 => non-maintainable file\n",
    "- Microsoft Maintainability Index < 20 => non-maintainable file\n",
    "\n",
    "Bertrand et al. (2023) used the following rule for simple LoC-based prediction:\n",
    "- LoC > 275 => non-maintainable file\n",
    "\n",
    "We found that SonarQube TD Time is better than the tool's primary maintainability metric (TD Ratio). We identify the best possible threshold value and report it in the paper. Note that only SonarQube gets this special positive treatment.\n",
    "- SonarQube TD Time > OPTIMAL_VALUE => non-maintainable file\n",
    "\n",
    "Finally, we explore what the optimal value would be for all the metrics. We don't report this in the paper, but it's interesting to investigate."
   ]
  },
  {
   "cell_type": "markdown",
   "id": "609bba3a-4456-4ca2-914e-e3f0372eecdd",
   "metadata": {},
   "source": [
    "### Preparations\n",
    "\n",
    "We start by defining a function to calculate the metrics we consider in the study."
   ]
  },
  {
   "cell_type": "code",
   "execution_count": 23,
   "id": "731abe64-1953-4a86-a9c6-32cd98771fe5",
   "metadata": {},
   "outputs": [],
   "source": [
    "def calculate_metrics(df, pred_column):\n",
    "    \"\"\"\n",
    "    Calculate statistics for a given prediction column and return them.\n",
    "\n",
    "    Parameters:\n",
    "    - df: DataFrame with your data\n",
    "    - pred_column: Column name for the prediction results\n",
    "\n",
    "    Returns:\n",
    "    - A dictionary with all calculated metrics.\n",
    "    \"\"\"\n",
    "    TP = ((df[pred_column] == True) & (df['Overall'] >= 2)).sum()\n",
    "    FP = ((df[pred_column] == True) & (df['Overall'] <= 1)).sum()\n",
    "    TN = ((df[pred_column] == False) & (df['Overall'] <= 1)).sum()\n",
    "    FN = ((df[pred_column] == False) & (df['Overall'] >= 2)).sum()\n",
    "\n",
    "    accuracy = (TP + TN) / (TP + FP + TN + FN)\n",
    "    precision = TP / (TP + FP) if TP + FP != 0 else 0\n",
    "    recall = TP / (TP + FN) if TP + FN != 0 else 0\n",
    "    f1 = 2 * (precision * recall) / (precision + recall) if (precision + recall) > 0 else 0\n",
    "    f2 = (5 * precision * recall) / ((4 * precision) + recall) if (precision + recall) > 0 else 0\n",
    "    f0_5 = (1.25 * precision * recall) / ((0.25 * precision) + recall) if (precision + recall) > 0 else 0\n",
    "    \n",
    "    metrics = {\n",
    "        \"TP\": TP, \"TN\": TN, \"FP\": FP, \"FN\": FN,\n",
    "        \"Accuracy\": accuracy, \"Precision\": precision,\n",
    "        \"Recall\": recall, \"F1-score\": f1,\n",
    "        \"F2-score\": f2, \"F0.5-score\": f0_5\n",
    "    }\n",
    "    \n",
    "    return metrics"
   ]
  },
  {
   "cell_type": "markdown",
   "id": "147dfac7-12d1-4f07-9712-b260f5cca874",
   "metadata": {},
   "source": [
    "## Evaluating the tools' fixed thresholds\n",
    "First, we do binary classification according to the fixed thresholds presented above. "
   ]
  },
  {
   "cell_type": "code",
   "execution_count": 24,
   "id": "c59c22f7-b92c-49da-b21b-910edbfc26f3",
   "metadata": {},
   "outputs": [],
   "source": [
    "def classify_non_maint(df, CH_threshold=9, SQ_ratio_threshold=0.05, MI_threshold=20, LoC_threhold=275):\n",
    "    \n",
    "    # Apply classification based on fixed thresholds\n",
    "    df[str('non-green')] = df['Code_Health'].apply(lambda x: True if x < CH_threshold else False)\n",
    "    df[str('non-indexA')] = df['TD_Ratio'].apply(lambda x: True if x > SQ_ratio_threshold else False)\n",
    "    df[str('low-MI')] = df['MI'].apply(lambda x: True if x < MI_threshold else False)\n",
    "    df[str('too_large')] = df['nos'].apply(lambda x: True if x > 275 else False)\n",
    "\n",
    "    return df"
   ]
  },
  {
   "cell_type": "code",
   "execution_count": 25,
   "id": "021cba5c-be20-4e51-8046-d2b8e04f4baf",
   "metadata": {},
   "outputs": [],
   "source": [
    "df_with_predictions = classify_non_maint(df)"
   ]
  },
  {
   "cell_type": "markdown",
   "id": "3c2b0e86-b956-45eb-9f4a-5ba693d7a950",
   "metadata": {},
   "source": [
    "### CodeScene Code Health"
   ]
  },
  {
   "cell_type": "code",
   "execution_count": 26,
   "id": "f1d29dd2-94fa-4745-9980-6ca5cb3d90ed",
   "metadata": {},
   "outputs": [
    {
     "name": "stdout",
     "output_type": "stream",
     "text": [
      "Metrics for Code Health < 9.0:\n",
      "TP: 51\n",
      "TN: 232\n",
      "FP: 6\n",
      "FN: 15\n",
      "Accuracy: 0.9309\n",
      "Precision: 0.8947\n",
      "Recall: 0.7727\n",
      "F1-score: 0.8293\n",
      "F2-score: 0.7944\n",
      "F0.5-score: 0.8673\n"
     ]
    }
   ],
   "source": [
    "results = calculate_metrics(df_with_predictions, 'non-green')\n",
    "print(\"Metrics for Code Health < 9.0:\")\n",
    "for key, value in results.items():\n",
    "    print(f\"{key}: {value:.4f}\" if isinstance(value, float) else f\"{key}: {value}\")"
   ]
  },
  {
   "cell_type": "markdown",
   "id": "f0747995-791b-4a0c-bf19-957fe33d3d90",
   "metadata": {},
   "source": [
    "### SonarQube TD Ratio"
   ]
  },
  {
   "cell_type": "code",
   "execution_count": 27,
   "id": "22aa4cd7-3920-4d53-bd97-e0e2b1a9b34a",
   "metadata": {},
   "outputs": [
    {
     "name": "stdout",
     "output_type": "stream",
     "text": [
      "Metrics for TD Ratio > 0.05:\n",
      "TP: 8\n",
      "TN: 176\n",
      "FP: 62\n",
      "FN: 58\n",
      "Accuracy: 0.6053\n",
      "Precision: 0.1143\n",
      "Recall: 0.1212\n",
      "F1-score: 0.1176\n",
      "F2-score: 0.1198\n",
      "F0.5-score: 0.1156\n"
     ]
    }
   ],
   "source": [
    "results = calculate_metrics(df_with_predictions, 'non-indexA')\n",
    "print(\"Metrics for TD Ratio > 0.05:\")\n",
    "for key, value in results.items():\n",
    "    print(f\"{key}: {value:.4f}\" if isinstance(value, float) else f\"{key}: {value}\")"
   ]
  },
  {
   "cell_type": "markdown",
   "id": "7151cc27-33c7-41e7-8e9d-63b05152c865",
   "metadata": {},
   "source": [
    "### Microsoft Maintainability Index"
   ]
  },
  {
   "cell_type": "code",
   "execution_count": 28,
   "id": "b79c6a74-e97c-414e-bf77-477c1fb50b46",
   "metadata": {},
   "outputs": [
    {
     "name": "stdout",
     "output_type": "stream",
     "text": [
      "Metrics for MI < 20:\n",
      "TP: 36\n",
      "TN: 218\n",
      "FP: 20\n",
      "FN: 30\n",
      "Accuracy: 0.8355\n",
      "Precision: 0.6429\n",
      "Recall: 0.5455\n",
      "F1-score: 0.5902\n",
      "F2-score: 0.5625\n",
      "F0.5-score: 0.6207\n"
     ]
    }
   ],
   "source": [
    "results = calculate_metrics(df_with_predictions, 'low-MI')\n",
    "print(\"Metrics for MI < 20:\")\n",
    "for key, value in results.items():\n",
    "    print(f\"{key}: {value:.4f}\" if isinstance(value, float) else f\"{key}: {value}\")"
   ]
  },
  {
   "cell_type": "markdown",
   "id": "ec2bc996-d359-464b-a796-61f6c31607ad",
   "metadata": {},
   "source": [
    "### Naïve LoC baseline"
   ]
  },
  {
   "cell_type": "code",
   "execution_count": 29,
   "id": "d9877b5f-038d-49be-9390-9a2df5cbdf24",
   "metadata": {},
   "outputs": [
    {
     "name": "stdout",
     "output_type": "stream",
     "text": [
      "Metrics for LoC > 275:\n",
      "TP: 47\n",
      "TN: 231\n",
      "FP: 7\n",
      "FN: 19\n",
      "Accuracy: 0.9145\n",
      "Precision: 0.8704\n",
      "Recall: 0.7121\n",
      "F1-score: 0.7833\n",
      "F2-score: 0.7390\n",
      "F0.5-score: 0.8333\n"
     ]
    }
   ],
   "source": [
    "results = calculate_metrics(df_with_predictions, 'too_large')\n",
    "print(\"Metrics for LoC > 275:\")\n",
    "for key, value in results.items():\n",
    "    print(f\"{key}: {value:.4f}\" if isinstance(value, float) else f\"{key}: {value}\")"
   ]
  },
  {
   "cell_type": "markdown",
   "id": "08ed66d8-4c28-4eec-a62e-cd4f132759f9",
   "metadata": {},
   "source": [
    "### SonarQube TD Time\n",
    "\n",
    "This metric needs some additional calculations. There is no default threshold, instead we find the best possible. We first define a function that finds the best threshold for a specific score"
   ]
  },
  {
   "cell_type": "code",
   "execution_count": 30,
   "id": "87033958-1570-4653-9309-e097e4fd8a2a",
   "metadata": {},
   "outputs": [],
   "source": [
    "def find_best_threshold(df, column, comparison_type, start, stop, step, metric='F0.5-score'):\n",
    "    \"\"\"\n",
    "    Explore different threshold values for a specified column in the DataFrame to find the best threshold \n",
    "    according to a specified performance metric (F0.5-score is the default) and comparison type (greater than or less than).\n",
    "\n",
    "    Parameters:\n",
    "    - df: DataFrame containing your data.\n",
    "    - column: The column name in the DataFrame on which to apply the threshold.\n",
    "    - comparison_type: Specifies the type of comparison against the threshold. Must be either 'greater' or 'less'.\n",
    "    - start: Starting value of the threshold range (inclusive).\n",
    "    - stop: Stopping value of the threshold range (exclusive).\n",
    "    - step: Step size between the threshold values.\n",
    "    - metric: The performance metric to optimize. Possible values include:\n",
    "      'Accuracy', 'Precision', 'Recall', 'F1-score', 'F2-score', 'F0.5-score'.\n",
    "\n",
    "    Returns:\n",
    "    - A dictionary with the best threshold value and its corresponding metrics.\n",
    "    \"\"\"\n",
    "    best_threshold = start\n",
    "    best_score = -np.inf\n",
    "    results = {}\n",
    "\n",
    "    for threshold in np.arange(start, stop, step):\n",
    "        # Classify based on the current threshold and comparison type\n",
    "        if comparison_type == 'greater':\n",
    "            df['predicted'] = df[column].apply(lambda x: x > threshold)\n",
    "        elif comparison_type == 'less':\n",
    "            df['predicted'] = df[column].apply(lambda x: x < threshold)\n",
    "        else:\n",
    "            raise ValueError(\"comparison_type must be 'greater' or 'less'\")\n",
    "        \n",
    "        # Calculate metrics using the calculate_metrics\n",
    "        metrics = calculate_metrics(df, 'predicted')\n",
    "        \n",
    "        # Check if the current metric score is better than the best found so far\n",
    "        current_score = metrics.get(metric, 0)  # Safeguard against missing metric key\n",
    "        if current_score > best_score:\n",
    "            best_score = current_score\n",
    "            best_threshold = threshold\n",
    "            results = metrics\n",
    "\n",
    "    return {\n",
    "        'Best Threshold': best_threshold,\n",
    "        'Best Score': best_score,\n",
    "        'Metrics': results\n",
    "    }"
   ]
  },
  {
   "cell_type": "markdown",
   "id": "6d20be55-7cfe-4cd3-beba-713fe8607c17",
   "metadata": {},
   "source": [
    "### Now we find the best threshold for TD Time"
   ]
  },
  {
   "cell_type": "code",
   "execution_count": 31,
   "id": "eeeef81b-98d6-42e4-b095-c7c552e01fd3",
   "metadata": {},
   "outputs": [
    {
     "name": "stdout",
     "output_type": "stream",
     "text": [
      "Best Threshold: 189\n",
      "Best F0.5-Score: 0.6818181818181818\n",
      "TP: 33\n",
      "TN: 227\n",
      "FP: 11\n",
      "FN: 33\n",
      "Accuracy: 0.8553\n",
      "Precision: 0.7500\n",
      "Recall: 0.5000\n",
      "F1-score: 0.6000\n",
      "F2-score: 0.5357\n",
      "F0.5-score: 0.6818\n"
     ]
    }
   ],
   "source": [
    "results = find_best_threshold(df, column='TD_Time', comparison_type='greater', metric='F0.5-score', start=0, stop=1001, step=1)\n",
    "print(\"Best Threshold:\", results['Best Threshold'])\n",
    "print(\"Best F0.5-Score:\", results['Best Score'])\n",
    "for key, value in results['Metrics'].items():\n",
    "     print(f\"{key}: {value:.4f}\" if isinstance(value, float) else f\"{key}: {value}\")"
   ]
  },
  {
   "cell_type": "markdown",
   "id": "a9e18d73-59b4-4fd6-a3d6-690e825dd524",
   "metadata": {},
   "source": [
    "We find that SonarQube TD Time obtains the best F0.5 score (0.68) for the threshold of 189 min."
   ]
  },
  {
   "cell_type": "markdown",
   "id": "de526953-2845-4624-b8e3-7d319cf5642d",
   "metadata": {},
   "source": [
    "### Bonus: Exploring what thresholds provide the best prediction results for the different thresholds"
   ]
  },
  {
   "cell_type": "markdown",
   "id": "8db84800-65e9-409a-93e8-215105b45347",
   "metadata": {},
   "source": [
    "#### CodeScene Code Health"
   ]
  },
  {
   "cell_type": "code",
   "execution_count": 32,
   "id": "f7b94808-1ca8-47a4-a806-76e0feef7c8e",
   "metadata": {},
   "outputs": [
    {
     "name": "stdout",
     "output_type": "stream",
     "text": [
      "Best Threshold: 8.4\n",
      "Best F0.5-Score: 0.872093023255814\n",
      "TP: 45\n",
      "TN: 235\n",
      "FP: 3\n",
      "FN: 21\n",
      "Accuracy: 0.9211\n",
      "Precision: 0.9375\n",
      "Recall: 0.6818\n",
      "F1-score: 0.7895\n",
      "F2-score: 0.7212\n",
      "F0.5-score: 0.8721\n"
     ]
    }
   ],
   "source": [
    "results = find_best_threshold(df, column='Code_Health', comparison_type='less', metric='F0.5-score', start=0, stop=10.1, step=0.1)\n",
    "print(\"Best Threshold:\", results['Best Threshold'])\n",
    "print(\"Best F0.5-Score:\", results['Best Score'])\n",
    "for key, value in results['Metrics'].items():\n",
    "     print(f\"{key}: {value:.4f}\" if isinstance(value, float) else f\"{key}: {value}\")"
   ]
  },
  {
   "cell_type": "markdown",
   "id": "811d570d-6123-4173-8533-66f29cb620bb",
   "metadata": {},
   "source": [
    "#### SonarQube TD Ratio"
   ]
  },
  {
   "cell_type": "code",
   "execution_count": 33,
   "id": "5081c8c0-2992-404f-8f88-762f0a234238",
   "metadata": {},
   "outputs": [
    {
     "name": "stdout",
     "output_type": "stream",
     "text": [
      "Best Threshold: 0.01\n",
      "Best F0.5-Score: 0.34403669724770647\n",
      "TP: 45\n",
      "TN: 136\n",
      "FP: 102\n",
      "FN: 21\n",
      "Accuracy: 0.5954\n",
      "Precision: 0.3061\n",
      "Recall: 0.6818\n",
      "F1-score: 0.4225\n",
      "F2-score: 0.5474\n",
      "F0.5-score: 0.3440\n"
     ]
    }
   ],
   "source": [
    "results = find_best_threshold(df, column='TD_Ratio', comparison_type='greater', metric='F0.5-score', start=0, stop=1.01, step=0.01)\n",
    "print(\"Best Threshold:\", results['Best Threshold'])\n",
    "print(\"Best F0.5-Score:\", results['Best Score'])\n",
    "for key, value in results['Metrics'].items():\n",
    "     print(f\"{key}: {value:.4f}\" if isinstance(value, float) else f\"{key}: {value}\")"
   ]
  },
  {
   "cell_type": "markdown",
   "id": "cccc0d4e-fb88-49b7-bd4b-45a37b4ea243",
   "metadata": {},
   "source": [
    "#### Microsoft Maintainability Index"
   ]
  },
  {
   "cell_type": "code",
   "execution_count": 34,
   "id": "35112077-6106-44bd-b881-aac4c722a542",
   "metadata": {},
   "outputs": [
    {
     "name": "stdout",
     "output_type": "stream",
     "text": [
      "Best Threshold: 21\n",
      "Best F0.5-Score: 0.6612903225806452\n",
      "TP: 41\n",
      "TN: 218\n",
      "FP: 20\n",
      "FN: 25\n",
      "Accuracy: 0.8520\n",
      "Precision: 0.6721\n",
      "Recall: 0.6212\n",
      "F1-score: 0.6457\n",
      "F2-score: 0.6308\n",
      "F0.5-score: 0.6613\n"
     ]
    }
   ],
   "source": [
    "results = find_best_threshold(df, column='MI', comparison_type='less', metric='F0.5-score', start=0, stop=101, step=1)\n",
    "print(\"Best Threshold:\", results['Best Threshold'])\n",
    "print(\"Best F0.5-Score:\", results['Best Score'])\n",
    "for key, value in results['Metrics'].items():\n",
    "     print(f\"{key}: {value:.4f}\" if isinstance(value, float) else f\"{key}: {value}\")"
   ]
  },
  {
   "cell_type": "markdown",
   "id": "9151f3e8-517d-485e-a603-1d0e9e96002f",
   "metadata": {},
   "source": [
    "#### Naïve LoC baseline"
   ]
  },
  {
   "cell_type": "code",
   "execution_count": 35,
   "id": "15100520-43e6-435a-a615-0bc76e093158",
   "metadata": {},
   "outputs": [
    {
     "name": "stdout",
     "output_type": "stream",
     "text": [
      "Best Threshold: 285\n",
      "Best F0.5-Score: 0.8587786259541985\n",
      "TP: 45\n",
      "TN: 234\n",
      "FP: 4\n",
      "FN: 21\n",
      "Accuracy: 0.9178\n",
      "Precision: 0.9184\n",
      "Recall: 0.6818\n",
      "F1-score: 0.7826\n",
      "F2-score: 0.7188\n",
      "F0.5-score: 0.8588\n"
     ]
    }
   ],
   "source": [
    "results = find_best_threshold(df, column='nos', comparison_type='greater', metric='F0.5-score', start=10, stop=1000, step=5)\n",
    "print(\"Best Threshold:\", results['Best Threshold'])\n",
    "print(\"Best F0.5-Score:\", results['Best Score'])\n",
    "for key, value in results['Metrics'].items():\n",
    "     print(f\"{key}: {value:.4f}\" if isinstance(value, float) else f\"{key}: {value}\")"
   ]
  },
  {
   "cell_type": "markdown",
   "id": "80ef027d-1a5c-480a-8d58-7a1165aacb92",
   "metadata": {},
   "source": [
    "We have now learned that for the Maintainability Datasets, all maintainability metrics have thresholds that yield better results than the fixed thresholds used in the tool. Still, only SonarQube's TD Time metric gets the benefit of an optimized threshold for the data. Despite giving SonarQube this handicap, it doesn't meet the competition.  "
   ]
  },
  {
   "cell_type": "markdown",
   "id": "b4e4ea4d-6784-4248-9f32-040bf3c52233",
   "metadata": {},
   "source": [
    "## RQ2: Underlying Predictive Powers\n",
    "\n",
    "RQ2 deals with investigating the predictive powers of the industrial tools' underlying maintainability metrics. We do this by varying the classification thresholds across their entire intervals to calculate True Positive Rates and False Positive Rates for different thresholds. We connect these to draw ROC curves and calculate the areas under the curves using the trapezoidal method."
   ]
  },
  {
   "cell_type": "markdown",
   "id": "0e3dc042-6bc6-4350-be30-f756bb535a6d",
   "metadata": {},
   "source": [
    "### Preparations\n",
    "\n",
    "First, we define a function that creates a matrix of prediction results."
   ]
  },
  {
   "cell_type": "code",
   "execution_count": 36,
   "id": "343702ab-39e8-4c4d-87b9-debff53766f7",
   "metadata": {},
   "outputs": [],
   "source": [
    "def get_prediction_matrix(df, column, comparison_type, lowest, highest, stepsize, column_prefix):\n",
    "    \"\"\"\n",
    "    Function to classify each file based on a specified column and a range of thresholds.\n",
    "    Each classification result is stored in a new column in a new DataFrame.\n",
    "\n",
    "    Parameters:\n",
    "    - df: Pandas DataFrame containing the files data.\n",
    "    - column: The name of the column on which to apply the thresholds.\n",
    "    - comparison_type: 'greater' if higher values than the threshold indicate non-maintainable;\n",
    "                       'less' if lower values than the threshold indicate non-maintainable.\n",
    "    - lowest: The lowest threshold to consider.\n",
    "    - highest: The highest threshold to consider.\n",
    "    - stepsize: The step size to increment the threshold.\n",
    "    - column_prefix: Prefix for the column names in the resulting DataFrame.\n",
    "\n",
    "    Returns:\n",
    "    - result_df: A new DataFrame with each column representing a classification result at each threshold,\n",
    "      where 'True' indicates a file is non-maintainable.\n",
    "    \"\"\"\n",
    "    \n",
    "    # Convert the specified column to numeric, handling non-numeric gracefully\n",
    "    df[column] = pd.to_numeric(df[column], errors='coerce')\n",
    "    \n",
    "    # List to hold Series for each threshold\n",
    "    results = []\n",
    "    \n",
    "    # Generate thresholds\n",
    "    thresholds = np.arange(lowest, highest + stepsize, stepsize)\n",
    "    \n",
    "    # Classify at each threshold\n",
    "    for threshold in thresholds:\n",
    "        # Generate column name indicating the threshold\n",
    "        column_name = f\"{column_prefix}_{threshold:.3f}\"\n",
    "        \n",
    "        # Apply classification based on the current threshold\n",
    "        if comparison_type == 'greater':\n",
    "            classified_series = df[column].apply(lambda x: x > threshold).rename(column_name)\n",
    "        elif comparison_type == 'less':\n",
    "            classified_series = df[column].apply(lambda x: x < threshold).rename(column_name)\n",
    "        else:\n",
    "            raise ValueError(\"comparison_type must be 'greater' or 'less'\")\n",
    "        \n",
    "        # Append the classified series to the list\n",
    "        results.append(classified_series)\n",
    "    \n",
    "    # Concatenate all results along columns\n",
    "    result_df = pd.concat(results, axis=1)\n",
    "    \n",
    "    return result_df"
   ]
  },
  {
   "cell_type": "markdown",
   "id": "ac14c30f-b7bf-426d-941d-b2d994dc107e",
   "metadata": {},
   "source": [
    "### Create prediction matrices for each maintainability prediction approach under study"
   ]
  },
  {
   "cell_type": "code",
   "execution_count": 37,
   "id": "befa3334-d642-4021-b407-36f88bc76dd9",
   "metadata": {},
   "outputs": [],
   "source": [
    "df_codescene_codehealth = get_prediction_matrix(df, 'Code_Health', 'less', 2.2, 10, 0.1, 'CH')\n",
    "df_sonarqube_tdratio = get_prediction_matrix(df, 'TD_Ratio', 'greater', -0.005, 0.35, 0.005, 'ratio')\n",
    "df_sonarqube_tdtime = get_prediction_matrix(df, 'TD_Time', 'greater', -5, 1750, 5, 'time')\n",
    "df_mi = get_prediction_matrix(df, 'MI', 'less', -1, 100, 1, 'mi')\n",
    "df_loc = get_prediction_matrix(df, 'nos', 'greater', -10, 2450, 10, 'loc')"
   ]
  },
  {
   "cell_type": "markdown",
   "id": "733c1b1b-0a32-4bde-bf63-6e13c4d79daf",
   "metadata": {},
   "source": [
    "### Calculate True Positive Rate and False Positive Rate for different thresholds"
   ]
  },
  {
   "cell_type": "code",
   "execution_count": 38,
   "id": "e12b390c-6437-44c7-8ce9-a2792be65661",
   "metadata": {},
   "outputs": [],
   "source": [
    "def calculate_tpr_fpr_at_thresholds(df, df_pred, ground_truth_column):\n",
    "    \"\"\"\n",
    "    Calculates TPR and FPR for each threshold classification in df_codescene,\n",
    "    using a specified ground truth column from the original dataframe.\n",
    "    \"\"\"\n",
    "    binary_ground_truth = df[ground_truth_column].astype(int)\n",
    "    \n",
    "    tpr_fpr_scores = {}\n",
    "    for column in df_pred.columns:\n",
    "        binary_predictions = df_pred[column].astype(int)\n",
    "        # Calculate True Positives (TP), False Positives (FP), True Negatives (TN), and False Negatives (FN)\n",
    "        TP = ((binary_predictions == 1) & (binary_ground_truth == 1)).sum()\n",
    "        FP = ((binary_predictions == 1) & (binary_ground_truth == 0)).sum()\n",
    "        TN = ((binary_predictions == 0) & (binary_ground_truth == 0)).sum()\n",
    "        FN = ((binary_predictions == 0) & (binary_ground_truth == 1)).sum()\n",
    "\n",
    "        # avoid division by zero\n",
    "        TPR = TP / (TP + FN) if (TP + FN) != 0 else 0\n",
    "        FPR = FP / (FP + TN) if (FP + TN) != 0 else 0\n",
    "        \n",
    "        tpr_fpr_scores[column] = {'TPR': TPR, 'FPR': FPR}\n",
    "        \n",
    "    return tpr_fpr_scores"
   ]
  },
  {
   "cell_type": "code",
   "execution_count": 39,
   "id": "fa542b10-b81d-4ed2-9a7d-a03e5b7bcdd8",
   "metadata": {},
   "outputs": [],
   "source": [
    "tpr_fpr_codescene_codehealth = calculate_tpr_fpr_at_thresholds(df, df_codescene_codehealth, \"ground_truth\")\n",
    "tpr_fpr_sonarqube_tdratio = calculate_tpr_fpr_at_thresholds(df, df_sonarqube_tdratio, \"ground_truth\")\n",
    "tpr_fpr_sonarqube_tdtime = calculate_tpr_fpr_at_thresholds(df, df_sonarqube_tdtime, \"ground_truth\")\n",
    "tpr_fpr_mi = calculate_tpr_fpr_at_thresholds(df, df_mi, \"ground_truth\")\n",
    "tpr_fpr_loc = calculate_tpr_fpr_at_thresholds(df, df_loc, \"ground_truth\")"
   ]
  },
  {
   "cell_type": "code",
   "execution_count": 40,
   "id": "71ea13a2-f16d-41ae-abd4-15e4c2b9e953",
   "metadata": {},
   "outputs": [],
   "source": [
    "def sort_tpr_fpr(tpr_fpr_dict):\n",
    "    sorted_pairs = sorted((v['FPR'], v['TPR']) for v in tpr_fpr_dict.values())\n",
    "    if sorted_pairs:\n",
    "        return zip(*sorted_pairs)\n",
    "    else:\n",
    "        return [], []  # return empty lists if no data"
   ]
  },
  {
   "cell_type": "code",
   "execution_count": 41,
   "id": "9fbe0647-c308-4480-8d99-4c3f701348f8",
   "metadata": {},
   "outputs": [],
   "source": [
    "# Extracting TPR and FPR values along with their corresponding thresholds\n",
    "thresholds_codescene = [float(th.split('_')[1]) for th in tpr_fpr_codescene_codehealth.keys()]\n",
    "tpr_values_codescene_codehealth = [vals['TPR'] for vals in tpr_fpr_codescene_codehealth.values()]\n",
    "fpr_values_codescene_codehealth = [vals['FPR'] for vals in tpr_fpr_codescene_codehealth.values()]\n",
    "\n",
    "thresholds_sonarqube_ratio = [float(th.split('_')[1]) for th in tpr_fpr_sonarqube_tdratio.keys()]\n",
    "tpr_values_sonarqube_ratio = [vals['TPR'] for vals in tpr_fpr_sonarqube_tdratio.values()]\n",
    "fpr_values_sonarqube_ratio = [vals['FPR'] for vals in tpr_fpr_sonarqube_tdratio.values()]\n",
    "\n",
    "thresholds_sonarqube_time = [float(th.split('_')[1]) for th in tpr_fpr_sonarqube_tdtime.keys()]\n",
    "tpr_values_sonarqube_time = [vals['TPR'] for vals in tpr_fpr_sonarqube_tdtime.values()]\n",
    "fpr_values_sonarqube_time = [vals['FPR'] for vals in tpr_fpr_sonarqube_tdtime.values()]\n",
    "\n",
    "thresholds_MI = [float(th.split('_')[1]) for th in tpr_fpr_mi.keys()]\n",
    "tpr_values_MI = [vals['TPR'] for vals in tpr_fpr_mi.values()]\n",
    "fpr_values_MI = [vals['FPR'] for vals in tpr_fpr_mi.values()]\n",
    "\n",
    "thresholds_loc = [float(th.split('_')[1]) for th in tpr_fpr_loc.keys()]\n",
    "tpr_values_loc = [vals['TPR'] for vals in tpr_fpr_loc.values()]\n",
    "fpr_values_loc = [vals['FPR'] for vals in tpr_fpr_loc.values()]"
   ]
  },
  {
   "cell_type": "code",
   "execution_count": 42,
   "id": "08f28df4-ac11-4f07-81da-afca2df4f997",
   "metadata": {},
   "outputs": [
    {
     "name": "stdout",
     "output_type": "stream",
     "text": [
      "CodeScene Code Health < 9.0:  (0.025210084033613446, 0.7727272727272727)\n",
      "SonarQube TD Ratio > 0.05:  (0.2605042016806723, 0.12121212121212122)\n",
      "Microsoft Maintainability Index <20:  (0.08403361344537816, 0.5454545454545454)\n"
     ]
    }
   ],
   "source": [
    "# The specific points representing the tools' fixed thresholds\n",
    "tpr_point_codescene = 0.7727272727272727\n",
    "fpr_point_codescene = 0.025210084033613446\n",
    "\n",
    "tpr_point_sonarqube_ratio = 0.12121212121212122\n",
    "fpr_point_sonarqube_ratio = 0.2605042016806723\n",
    "\n",
    "tpr_point_MicroSoft_MI = 0.5454545454545454\n",
    "fpr_point_MicroSoft_MI = 0.08403361344537816\n",
    "\n",
    "print(\"CodeScene Code Health < 9.0: \", (fpr_point_codescene, tpr_point_codescene))\n",
    "print(\"SonarQube TD Ratio > 0.05: \", (fpr_point_sonarqube_ratio, tpr_point_sonarqube_ratio ))\n",
    "print(\"Microsoft Maintainability Index <20: \", (fpr_point_MicroSoft_MI, tpr_point_MicroSoft_MI))"
   ]
  },
  {
   "cell_type": "markdown",
   "id": "d9cf459f-5938-40de-9083-201d71074560",
   "metadata": {},
   "source": [
    "## Plot ROC curves"
   ]
  },
  {
   "cell_type": "code",
   "execution_count": 47,
   "id": "fb22d544-5135-4410-9705-bdf9de455c97",
   "metadata": {},
   "outputs": [
    {
     "data": {
      "image/png": "[encoded data removed]",
      "text/plain": [
       "<Figure size 800x600 with 1 Axes>"
      ]
     },
     "metadata": {},
     "output_type": "display_data"
    }
   ],
   "source": [
    "plt.figure(figsize=(8, 6))\n",
    "\n",
    "# Plot each ROC curve with specified colors\n",
    "plt.plot(sota_ml_fpr_sorted, sota_ml_tpr, marker='o', color='green', label='(A) SotA ML')\n",
    "plt.plot(fpr_values_codescene_codehealth, tpr_values_codescene_codehealth, marker='o', linestyle='-', color='#5dd5d9', label='(B) CodeScene Code Health')\n",
    "plt.plot(fpr_values_loc, tpr_values_loc, marker='o', linestyle='-', color='brown', label='(C) LoC Baseline')\n",
    "plt.plot(fpr_values_MI, tpr_values_MI, marker='o', linestyle='-', color='#0072C6', label='(D) MS Maintainability Index')\n",
    "plt.plot(fpr_values_sonarqube_time, tpr_values_sonarqube_time, marker='o', linestyle='-', color='darkorange', label='(E) SonarQube TD Time')\n",
    "plt.plot(fpr_values_sonarqube_ratio, tpr_values_sonarqube_ratio, marker='o', linestyle='-', color='red', label='(G) SonarQube TD Ratio')\n",
    "\n",
    "# Highlight specific points\n",
    "plt.plot(fpr_point_codescene, tpr_point_codescene, marker='*', color='#5dd5d9', markeredgecolor='black', markersize=20, label='Code Health < 9.0')\n",
    "plt.plot(fpr_point_sonarqube_ratio, tpr_point_sonarqube_ratio, marker='*', color='red', markeredgecolor='black', markersize=20, label='SonarQube TD Ratio > 0.05')\n",
    "plt.plot(fpr_point_MicroSoft_MI, tpr_point_MicroSoft_MI, marker='*', color='#0072C6', markeredgecolor='black', markersize=20, label='MS Maintainability Index < 20')\n",
    "\n",
    "# Plotting the diagonal line from (0,0) to (1,1)\n",
    "plt.plot([0, 1], [0, 1], color='navy', linestyle='--')\n",
    "\n",
    "plt.xlim([0.0, 1.0])\n",
    "plt.ylim([0.0, 1.05])\n",
    "plt.xlabel('False Positive Rate (1 - Specificity)')\n",
    "plt.ylabel('True Positive Rate (Sensitivity)')\n",
    "#plt.title('ROC Curves for Fragility Prediction')\n",
    "plt.legend(loc=\"lower right\")\n",
    "plt.grid(True)\n",
    "plt.show()"
   ]
  },
  {
   "cell_type": "markdown",
   "id": "09d7f37e-401b-4c89-92dd-e80f34ceb535",
   "metadata": {},
   "source": [
    "## Calculate AUC scores"
   ]
  },
  {
   "cell_type": "code",
   "execution_count": 44,
   "id": "7b0e20ea-7f56-4d5c-b7cf-84fb930efacc",
   "metadata": {},
   "outputs": [
    {
     "name": "stdout",
     "output_type": "stream",
     "text": [
      "AUC for CodeScene CodeHealth: 0.9467\n",
      "AUC for SonarQube TD Ratio: 0.5954\n",
      "AUC for SonarQube TD Time: 0.8632\n",
      "AUC for Maintainability Index: 0.8929\n",
      "AUC for Lines of Code: 0.9470\n"
     ]
    }
   ],
   "source": [
    "def calculate_and_print_auc_scores(tpr_fpr_dicts, labels):\n",
    "    \"\"\"\n",
    "    Calculate and print the AUC scores for given sets of TPR/FPR dictionaries.\n",
    "    \n",
    "    Parameters:\n",
    "    tpr_fpr_dicts: List of dictionaries containing 'TPR' and 'FPR' values.\n",
    "    labels: List of labels corresponding to each dictionary for display purposes.\n",
    "    \"\"\"\n",
    "    for tpr_fpr_dict, label in zip(tpr_fpr_dicts, labels):\n",
    "        fpr, tpr = sort_tpr_fpr(tpr_fpr_dict)  # Extract and sort FPR, TPR\n",
    "        if fpr and tpr:  # Ensure there is data to calculate\n",
    "            auc_score = np.trapz(tpr, fpr)  # Calculate AUC using the trapezoidal rule\n",
    "            print(f\"AUC for {label}: {auc_score:.4f}\")\n",
    "        else:\n",
    "            print(f\"AUC for {label}: Data insufficient for AUC calculation.\")\n",
    "\n",
    "# Labels for each dataset\n",
    "labels = [\n",
    "    'CodeScene CodeHealth',\n",
    "    'SonarQube TD Ratio',\n",
    "    'SonarQube TD Time',\n",
    "    'Maintainability Index',\n",
    "    'Lines of Code'\n",
    "]\n",
    "\n",
    "# List of your TPR/FPR data dictionaries\n",
    "tpr_fpr_dicts = [\n",
    "    tpr_fpr_codescene_codehealth,\n",
    "    tpr_fpr_sonarqube_tdratio,\n",
    "    tpr_fpr_sonarqube_tdtime,\n",
    "    tpr_fpr_mi,\n",
    "    tpr_fpr_loc\n",
    "]\n",
    "\n",
    "# Calculate and print AUC scores\n",
    "calculate_and_print_auc_scores(tpr_fpr_dicts, labels)"
   ]
  },
  {
   "cell_type": "code",
   "execution_count": null,
   "id": "00532200-0759-49f4-a7fc-c092f0551697",
   "metadata": {},
   "outputs": [],
   "source": []
  }
 ],
 "metadata": {
  "kernelspec": {
   "display_name": "Python 3 (ipykernel)",
   "language": "python",
   "name": "python3"
  },
  "language_info": {
   "codemirror_mode": {
    "name": "ipython",
    "version": 3
   },
   "file_extension": ".py",
   "mimetype": "text/x-python",
   "name": "python",
   "nbconvert_exporter": "python",
   "pygments_lexer": "ipython3",
   "version": "3.9.18"
  }
 },
 "nbformat": 4,
 "nbformat_minor": 5
}
